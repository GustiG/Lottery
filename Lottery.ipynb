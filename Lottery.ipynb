{
 "cells": [
  {
   "cell_type": "markdown",
   "id": "80dc5560-9c06-4e79-93f5-750a85ee8dce",
   "metadata": {},
   "source": [
    "# Lottery Winning Chances Simulator"
   ]
  },
  {
   "cell_type": "code",
   "execution_count": 1,
   "id": "d1609bfa-774a-4370-9662-1e0afe5d21c8",
   "metadata": {},
   "outputs": [],
   "source": [
    "import random\n",
    "from random import sample\n",
    "from math import comb"
   ]
  },
  {
   "cell_type": "markdown",
   "id": "508e004a-7fa7-4a14-a5d5-701faf63acb4",
   "metadata": {},
   "source": [
    "## First check your chances:"
   ]
  },
  {
   "cell_type": "code",
   "execution_count": 2,
   "id": "7c189024-341c-4a43-baf8-27837532da31",
   "metadata": {},
   "outputs": [
    {
     "name": "stdin",
     "output_type": "stream",
     "text": [
      "Enter a number between 1 and 6:  6\n"
     ]
    },
    {
     "name": "stdout",
     "output_type": "stream",
     "text": [
      "The probability of guessing 6 out of 49 numbers correctly is 0.000007%\n"
     ]
    }
   ],
   "source": [
    "from math import comb\n",
    "\n",
    "N = 49\n",
    "n = 6\n",
    "\n",
    "K = int(input(\"Enter a number between 1 and 6: \"))\n",
    "\n",
    "if K < 1 or K > 6:\n",
    "    print(\"Invalid input.\")\n",
    "else:\n",
    "    prob = comb(K, K) * comb(N-K, n-K) / comb(N, n)\n",
    "    percentage = prob * 100\n",
    "    print(f\"The probability of guessing {K} out of 49 numbers correctly is {percentage:.6f}%\")"
   ]
  },
  {
   "cell_type": "markdown",
   "id": "068a50b1-088b-4cb1-80fb-2f1cb842c2d9",
   "metadata": {},
   "source": [
    "## Still want to play? Go ahead:"
   ]
  },
  {
   "cell_type": "code",
   "execution_count": 3,
   "id": "1f93fd13-836e-4e84-93f4-564aac358a03",
   "metadata": {},
   "outputs": [
    {
     "name": "stdin",
     "output_type": "stream",
     "text": [
      "Enter your 6 numbers separated by commas:  6, 33, 11, 40, 19, 4\n"
     ]
    },
    {
     "name": "stdout",
     "output_type": "stream",
     "text": [
      "Your numbers: [6, 33, 11, 40, 19, 4]\n",
      "Winning numbers: [15, 22, 16, 14, 21, 29]\n",
      "Mathed numbers: set()\n",
      "You guessed 0 numbers.\n"
     ]
    }
   ],
   "source": [
    "import random\n",
    "\n",
    "def lottery():\n",
    "    \n",
    "    user_numbers = input(\"Enter your 6 numbers separated by commas: \")\n",
    "    user_numbers_list = user_numbers.split(\",\")\n",
    "    user_numbers_list = [int(i) for i in user_numbers_list]\n",
    "    winning_numbers = random.sample(range(1, 50), 6)\n",
    "    matched_numbers = set(user_numbers_list).intersection(winning_numbers)\n",
    "    \n",
    "    print(\"Your numbers:\", user_numbers_list)\n",
    "    print(\"Winning numbers:\", winning_numbers)\n",
    "    print(\"Mathed numbers:\", matched_numbers)\n",
    "    print(\"You guessed\", len(matched_numbers), \"numbers.\")\n",
    "        \n",
    "lottery()"
   ]
  },
  {
   "cell_type": "markdown",
   "id": "6797fa32-14db-46a5-8b77-50f9e069d5e6",
   "metadata": {},
   "source": [
    "## Want to know how many tries will it take for your 6 numbers to be picked?:"
   ]
  },
  {
   "cell_type": "code",
   "execution_count": 4,
   "id": "976e4c78-ae0c-4e1a-9c46-5236119878cd",
   "metadata": {},
   "outputs": [
    {
     "name": "stdin",
     "output_type": "stream",
     "text": [
      "Enter a number between 1 and 49:  6\n",
      "Enter a number between 1 and 49:  33\n",
      "Enter a number between 1 and 49:  11\n",
      "Enter a number between 1 and 49:  40\n",
      "Enter a number between 1 and 49:  19\n",
      "Enter a number between 1 and 49:  4\n"
     ]
    },
    {
     "name": "stdout",
     "output_type": "stream",
     "text": [
      "It took 12586850 tries to guess all your 6 numbers.\n"
     ]
    }
   ],
   "source": [
    "from random import sample\n",
    "\n",
    "N = 49\n",
    "n = 6\n",
    "\n",
    "numbers = []\n",
    "\n",
    "# Prompt user to input 6 numbers\n",
    "while len(numbers) < n:\n",
    "    num = int(input(f\"Enter a number between 1 and {N}: \"))\n",
    "    if num < 1 or num > N:\n",
    "        print(\"Invalid input.\")\n",
    "    elif num in numbers:\n",
    "        print(\"Number already chosen.\")\n",
    "    else:\n",
    "        numbers.append(num)\n",
    "\n",
    "# Simulate drawing numbers and counting tries until all 6 user numbers are guessed\n",
    "tries = 0\n",
    "while True:\n",
    "    tries += 1\n",
    "    drawn = set(sample(range(1, N+1), n))\n",
    "    if drawn == set(numbers):\n",
    "        break\n",
    "\n",
    "print(f\"It took {tries} tries to guess all your 6 numbers.\")"
   ]
  }
 ],
 "metadata": {
  "kernelspec": {
   "display_name": "Python 3 (ipykernel)",
   "language": "python",
   "name": "python3"
  },
  "language_info": {
   "codemirror_mode": {
    "name": "ipython",
    "version": 3
   },
   "file_extension": ".py",
   "mimetype": "text/x-python",
   "name": "python",
   "nbconvert_exporter": "python",
   "pygments_lexer": "ipython3",
   "version": "3.9.13"
  }
 },
 "nbformat": 4,
 "nbformat_minor": 5
}
