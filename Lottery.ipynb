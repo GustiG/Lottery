{
 "cells": [
  {
   "cell_type": "markdown",
   "id": "80dc5560-9c06-4e79-93f5-750a85ee8dce",
   "metadata": {},
   "source": [
    "# Lottery Winning Chances Simulator"
   ]
  },
  {
   "cell_type": "code",
   "execution_count": 19,
   "id": "d1609bfa-774a-4370-9662-1e0afe5d21c8",
   "metadata": {},
   "outputs": [],
   "source": [
    "import random\n",
    "from math import comb"
   ]
  },
  {
   "cell_type": "markdown",
   "id": "508e004a-7fa7-4a14-a5d5-701faf63acb4",
   "metadata": {},
   "source": [
    "## First check your chances:"
   ]
  },
  {
   "cell_type": "code",
   "execution_count": 29,
   "id": "7c189024-341c-4a43-baf8-27837532da31",
   "metadata": {},
   "outputs": [
    {
     "name": "stdin",
     "output_type": "stream",
     "text": [
      "Enter a number between 1 and 6:  3\n"
     ]
    },
    {
     "name": "stdout",
     "output_type": "stream",
     "text": [
      "The probability of guessing 3 out of 49 numbers correctly is 0.108554%\n"
     ]
    }
   ],
   "source": [
    "from math import comb\n",
    "\n",
    "N = 49\n",
    "n = 6\n",
    "\n",
    "K = int(input(\"Enter a number between 1 and 6: \"))\n",
    "\n",
    "if K < 1 or K > 6:\n",
    "    print(\"Invalid input.\")\n",
    "else:\n",
    "    prob = comb(K, K) * comb(N-K, n-K) / comb(N, n)\n",
    "    percentage = prob * 100\n",
    "    print(f\"The probability of guessing {K} out of 49 numbers correctly is {percentage:.6f}%\")"
   ]
  },
  {
   "cell_type": "markdown",
   "id": "068a50b1-088b-4cb1-80fb-2f1cb842c2d9",
   "metadata": {},
   "source": [
    "## Still want to play? Go ahead:"
   ]
  },
  {
   "cell_type": "code",
   "execution_count": 26,
   "id": "1f93fd13-836e-4e84-93f4-564aac358a03",
   "metadata": {},
   "outputs": [
    {
     "name": "stdin",
     "output_type": "stream",
     "text": [
      "Enter your 6 numbers separated by commas:  1,2,5,21,13,11\n"
     ]
    },
    {
     "name": "stdout",
     "output_type": "stream",
     "text": [
      "Your numbers: [1, 2, 5, 21, 13, 11]\n",
      "Winning numbers: [42, 45, 49, 47, 11, 19]\n",
      "Mathed numbers: {11}\n",
      "You guessed 1 numbers.\n"
     ]
    }
   ],
   "source": [
    "import random\n",
    "\n",
    "def lottery():\n",
    "    \n",
    "    user_numbers = input(\"Enter your 6 numbers separated by commas: \")\n",
    "    user_numbers_list = user_numbers.split(\",\")\n",
    "    user_numbers_list = [int(i) for i in user_numbers_list]\n",
    "    winning_numbers = random.sample(range(1, 50), 6)\n",
    "    matched_numbers = set(user_numbers_list).intersection(winning_numbers)\n",
    "    \n",
    "    print(\"Your numbers:\", user_numbers_list)\n",
    "    print(\"Winning numbers:\", winning_numbers)\n",
    "    print(\"Mathed numbers:\", matched_numbers)\n",
    "    print(\"You guessed\", len(matched_numbers), \"numbers.\")\n",
    "    \n",
    "    \n",
    "lottery()"
   ]
  },
  {
   "cell_type": "code",
   "execution_count": null,
   "id": "19b4d6d5-afc8-4b3f-b714-94fd8dc2f640",
   "metadata": {},
   "outputs": [],
   "source": []
  }
 ],
 "metadata": {
  "kernelspec": {
   "display_name": "Python 3 (ipykernel)",
   "language": "python",
   "name": "python3"
  },
  "language_info": {
   "codemirror_mode": {
    "name": "ipython",
    "version": 3
   },
   "file_extension": ".py",
   "mimetype": "text/x-python",
   "name": "python",
   "nbconvert_exporter": "python",
   "pygments_lexer": "ipython3",
   "version": "3.9.13"
  }
 },
 "nbformat": 4,
 "nbformat_minor": 5
}
